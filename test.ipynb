{
 "cells": [
  {
   "cell_type": "code",
   "source": ["print('Hello, world!')"],
   "outputs": [{"output_type": "stream", "text": "Hello, world!\n"}]
  }
 ],
 "metadata": {},
 "nbformat": 4,
 "nbformat_minor": 2
}
